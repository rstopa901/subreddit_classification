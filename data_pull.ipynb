{
 "cells": [
  {
   "cell_type": "code",
   "execution_count": 6,
   "id": "e23ff868-e62d-4a27-b0da-f3244b3edad1",
   "metadata": {},
   "outputs": [],
   "source": [
    "import numpy as np\n",
    "import pandas as pd\n",
    "import requests\n",
    "from datetime import datetime as dt"
   ]
  },
  {
   "cell_type": "code",
   "execution_count": 7,
   "id": "ab9b2a1e-9f9a-48ce-80a1-af7ba886c546",
   "metadata": {},
   "outputs": [],
   "source": [
    "pd.set_option('display.max_columns', None)\n",
    "# pd.set_option('display.max_rows', None)"
   ]
  },
  {
   "cell_type": "markdown",
   "id": "9b6169c3-271e-4e4f-8e62-a684f871222f",
   "metadata": {},
   "source": [
    "This notebook pulls data from two subreddits to feed into the classification model and does preliminary data cleaning. \n",
    "\n",
    "The two subreddits are:\n",
    "\n",
    "* https://www.reddit.com/r/ModernWarfareII/\n",
    "* https://www.reddit.com/r/overwatch2/\n",
    "\n",
    "The data pull relies on pushshift api, which can be found here:\n",
    "\n",
    "* https://github.com/pushshift/api"
   ]
  },
  {
   "cell_type": "code",
   "execution_count": 8,
   "id": "82fe4aa4-88e5-4b1b-bb44-a632e9fc3150",
   "metadata": {},
   "outputs": [],
   "source": [
    "def get_reddit_submissions(subreddits: list, max_num: int):\n",
    "    \"\"\"\n",
    "    uses pushshift api to gather subreddit posts\n",
    "    \"\"\"\n",
    "    base_url = \"https://api.pushshift.io/reddit/search/submission\"\n",
    "    all_posts = []\n",
    "    \n",
    "    for subreddit in subreddits:\n",
    "        params = {\n",
    "            'subreddit': subreddit,\n",
    "            'size': 1000 #doesn't appear to be working\n",
    "        }\n",
    "        \n",
    "        count = 0 #keep track of posts/subreddit\n",
    "        \n",
    "        while count < max_num:\n",
    "            res = requests.get(base_url, params)\n",
    "            \n",
    "            if res.status_code == 200:\n",
    "                posts = pd.DataFrame(res.json()['data'])\n",
    "                count += len(posts)\n",
    "                \n",
    "                all_posts.append(posts)\n",
    "                \n",
    "                if len(posts) == 0: \n",
    "                    break #break loop if request successful but nothing retrieved\n",
    "                    \n",
    "                #get sequential posts from most recent to least    \n",
    "                params['before'] = posts['created_utc'].min()\n",
    "            else:\n",
    "                print(f'status: {res.status_code}')\n",
    "        print(f'scraped from {subreddit}: {count}')\n",
    "    \n",
    "    return pd.concat(all_posts)\n",
    "\n",
    "# source: Devin Day"
   ]
  },
  {
   "cell_type": "markdown",
   "id": "41e0d323-33dc-4137-9d5e-7a7ed6b9f6b3",
   "metadata": {},
   "source": [
    "#### Overwatch 2 Data"
   ]
  },
  {
   "cell_type": "code",
   "execution_count": 10,
   "id": "671952ce-9e3c-4cab-b82f-1bb502d7b674",
   "metadata": {},
   "outputs": [
    {
     "name": "stdout",
     "output_type": "stream",
     "text": [
      "status: 504\n",
      "scraped from overwatch: 3999\n"
     ]
    }
   ],
   "source": [
    "# get overwatch posts\n",
    "ow = get_reddit_submissions(subreddits=['overwatch'], max_num=3000)"
   ]
  },
  {
   "cell_type": "code",
   "execution_count": 11,
   "id": "279be2bc-27a2-42ad-af2d-0f4e8fc918c5",
   "metadata": {},
   "outputs": [
    {
     "data": {
      "text/plain": [
       "(Timestamp('2022-12-13 22:22:12'), Timestamp('2022-12-21 02:01:20'))"
      ]
     },
     "execution_count": 11,
     "metadata": {},
     "output_type": "execute_result"
    }
   ],
   "source": [
    "# look at minumum and maximum dates\n",
    "pd.to_datetime(ow['utc_datetime_str']).min(), pd.to_datetime(ow['utc_datetime_str']).max()"
   ]
  },
  {
   "cell_type": "markdown",
   "id": "58e5159b-bc75-4144-b8b7-b8592fc2bbb1",
   "metadata": {},
   "source": [
    "At the time of this project, the pushshift api was undergoing maintainance, causing all the data to be between 11/15/2022 and 12/15/2022"
   ]
  },
  {
   "cell_type": "code",
   "execution_count": null,
   "id": "d82c2c66-4a16-4b74-9849-ad36a02ba978",
   "metadata": {},
   "outputs": [],
   "source": [
    "ow.loc[(ow['selftext']!='[removed]')&(ow['selftext']!='')]['selftext'].count()"
   ]
  },
  {
   "cell_type": "code",
   "execution_count": null,
   "id": "91e0ec77-60c6-421e-a5e6-cc54a65dd5eb",
   "metadata": {},
   "outputs": [],
   "source": [
    "# create date column\n",
    "ow['date'] = pd.to_datetime(ow['utc_datetime_str']).dt.strftime('%m/%d')"
   ]
  },
  {
   "cell_type": "code",
   "execution_count": null,
   "id": "b5b1d74f-67ef-40f4-958d-6c59df2ac346",
   "metadata": {},
   "outputs": [],
   "source": [
    "# save overwatch2 data\n",
    "ow.to_csv('data/overwatch2_data_pull.csv')"
   ]
  },
  {
   "cell_type": "markdown",
   "id": "0960a314-ac5f-4069-bb14-79c53fc5da65",
   "metadata": {},
   "source": [
    "#### COD MW2 Data"
   ]
  },
  {
   "cell_type": "code",
   "execution_count": null,
   "id": "5e78e532-8f15-4717-9d05-5593a2a958d0",
   "metadata": {},
   "outputs": [],
   "source": [
    "# pull cod mw2 data\n",
    "cod = get_reddit_submissions(subreddits=['ModernWarfareII'], max_num=100_000)"
   ]
  },
  {
   "cell_type": "code",
   "execution_count": null,
   "id": "d5a2bc4b-2ed9-4e7a-847b-33e6dd34e19f",
   "metadata": {},
   "outputs": [],
   "source": [
    "# look at min and max dates\n",
    "pd.to_datetime(cod['utc_datetime_str']).min(), pd.to_datetime(cod['utc_datetime_str']).max() # 11/15/2022 to 12/15/2022"
   ]
  },
  {
   "cell_type": "code",
   "execution_count": null,
   "id": "b68ba2a7-f3a6-4fcd-baa6-629506658d0e",
   "metadata": {},
   "outputs": [],
   "source": [
    "# create date column\n",
    "cod['date'] = pd.to_datetime(cod['utc_datetime_str']).dt.strftime('%m/%d')"
   ]
  },
  {
   "cell_type": "code",
   "execution_count": null,
   "id": "fe3d60e4-1eb9-4bea-baf9-bfbc8f7d4ba0",
   "metadata": {},
   "outputs": [],
   "source": [
    "# save cod data\n",
    "cod.to_csv('data/cod_data_pull.csv')"
   ]
  }
 ],
 "metadata": {
  "kernelspec": {
   "display_name": "Python 3 (ipykernel)",
   "language": "python",
   "name": "python3"
  },
  "language_info": {
   "codemirror_mode": {
    "name": "ipython",
    "version": 3
   },
   "file_extension": ".py",
   "mimetype": "text/x-python",
   "name": "python",
   "nbconvert_exporter": "python",
   "pygments_lexer": "ipython3",
   "version": "3.9.13"
  }
 },
 "nbformat": 4,
 "nbformat_minor": 5
}
