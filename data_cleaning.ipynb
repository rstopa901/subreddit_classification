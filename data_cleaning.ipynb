{
 "cells": [
  {
   "cell_type": "code",
   "execution_count": 1,
   "id": "e789a895-3ef0-452b-a9fe-601a61185d03",
   "metadata": {},
   "outputs": [],
   "source": [
    "import numpy as np\n",
    "import pandas as pd\n",
    "import requests\n",
    "import re"
   ]
  },
  {
   "cell_type": "code",
   "execution_count": 2,
   "id": "1b32f67c-385f-4e13-b123-6c18de70e788",
   "metadata": {},
   "outputs": [],
   "source": [
    "pd.set_option('display.max_columns', None)\n",
    "pd.set_option('display.max_rows', 40)"
   ]
  },
  {
   "cell_type": "markdown",
   "id": "64812ab3-365c-4a07-9d58-846e173a3fee",
   "metadata": {},
   "source": [
    "The goal of this notebook is to clean the data and perform exploratory data analysis"
   ]
  },
  {
   "cell_type": "code",
   "execution_count": 3,
   "id": "c9c6ed77-0822-4881-b605-80e36fb48f40",
   "metadata": {},
   "outputs": [
    {
     "name": "stderr",
     "output_type": "stream",
     "text": [
      "C:\\Users\\rstop\\AppData\\Local\\Temp\\ipykernel_1596\\908416775.py:2: DtypeWarning: Columns (63) have mixed types. Specify dtype option on import or set low_memory=False.\n",
      "  cod = pd.read_csv('data/cod_data_pull.csv', )\n"
     ]
    }
   ],
   "source": [
    "# read data\n",
    "cod = pd.read_csv('data/cod_data_pull.csv', )\n",
    "ow = pd.read_csv('data/overwatch2_data_pull.csv')"
   ]
  },
  {
   "cell_type": "code",
   "execution_count": 4,
   "id": "78b50558-41cb-4a8d-90a0-fab5a0cda505",
   "metadata": {},
   "outputs": [],
   "source": [
    "# drop unnecessary index columns\n",
    "cod.drop(columns=['Unnamed: 0'], inplace=True)\n",
    "ow.drop(columns=['Unnamed: 0'], inplace=True)"
   ]
  },
  {
   "cell_type": "markdown",
   "id": "f8b444d6-b2f2-4896-9011-c976df27d664",
   "metadata": {},
   "source": [
    "cod has 48,182 rows:\n",
    "* 29,062 have null selftext\n",
    "* 13,948 are deleted or removed\n",
    "\n",
    "ow has 20,247 rows:\n",
    "* 11,556 have null selftext\n",
    "* 5,485 are deleted or removed\n",
    "\n",
    "Since many of the rows are null, we will keep posts with null selftext to preserve the majority of our data. However, we will remove the posts which were deleted or removed since 1. the counts are smaller and 2. because they were deleted anyway."
   ]
  },
  {
   "cell_type": "code",
   "execution_count": 5,
   "id": "38f599c3-15e6-475d-9bf4-9de02ff8c093",
   "metadata": {},
   "outputs": [],
   "source": [
    "# remove \"removed\" and \"deleted\" posts\n",
    "cod = cod.loc[(cod['selftext']!='[removed]')&(cod['selftext']!='[deleted]')]\n",
    "ow = ow.loc[(ow['selftext']!='[removed]')&(ow['selftext']!='[deleted]')]"
   ]
  },
  {
   "cell_type": "code",
   "execution_count": 6,
   "id": "1174e5b3-e0b1-4323-bdd6-154eb5d57f54",
   "metadata": {},
   "outputs": [],
   "source": [
    "# combine two dataframes to create master dataframe we will use for modeling\n",
    "ow_cod_df = pd.concat([cod, ow])"
   ]
  },
  {
   "cell_type": "markdown",
   "id": "0e672e49-39f3-4931-b717-4636798e7480",
   "metadata": {},
   "source": [
    "We define our predicted variable $y$ as 1 if the subreddit is Overwatch and 0 if the subreddit is ModernWarfareII (cod):"
   ]
  },
  {
   "cell_type": "code",
   "execution_count": 7,
   "id": "ccc7714b-befa-4ce8-9b00-d3d9eb48490f",
   "metadata": {},
   "outputs": [],
   "source": [
    "ow_cod_df.loc[:, 'subreddit_ow'] = np.where(ow_cod_df['subreddit']=='Overwatch', 1, 0)"
   ]
  },
  {
   "cell_type": "markdown",
   "id": "5d350087-4a33-4a51-843a-64d82a4cd6d5",
   "metadata": {},
   "source": [
    "We will keep the following columns:\n",
    "* `title`: title, used for classification\n",
    "* `selftext`: post text, used for classification\n",
    "* `author`: author name, not used for classification\n",
    "* `created_utc`: created date, not used for classification\n",
    "* `utc_datetime_str`: date string, not used for classification\n",
    "\n",
    "We will use the `title` and `selftext` for classification because we are interested in using language as a classifier"
   ]
  },
  {
   "cell_type": "code",
   "execution_count": 8,
   "id": "08a2d353-9a8d-42de-b9f1-d67a8189a3c9",
   "metadata": {},
   "outputs": [],
   "source": [
    "ow_cod_df = ow_cod_df[['subreddit_ow', 'title', 'selftext', 'author', 'created_utc', 'utc_datetime_str']].copy()"
   ]
  },
  {
   "cell_type": "code",
   "execution_count": 9,
   "id": "19c0d6a4-72bc-43af-b17b-8e28ff394d0d",
   "metadata": {},
   "outputs": [
    {
     "data": {
      "text/html": [
       "<div>\n",
       "<style scoped>\n",
       "    .dataframe tbody tr th:only-of-type {\n",
       "        vertical-align: middle;\n",
       "    }\n",
       "\n",
       "    .dataframe tbody tr th {\n",
       "        vertical-align: top;\n",
       "    }\n",
       "\n",
       "    .dataframe thead th {\n",
       "        text-align: right;\n",
       "    }\n",
       "</style>\n",
       "<table border=\"1\" class=\"dataframe\">\n",
       "  <thead>\n",
       "    <tr style=\"text-align: right;\">\n",
       "      <th></th>\n",
       "      <th>subreddit_ow</th>\n",
       "      <th>title</th>\n",
       "      <th>selftext</th>\n",
       "      <th>author</th>\n",
       "      <th>created_utc</th>\n",
       "      <th>utc_datetime_str</th>\n",
       "    </tr>\n",
       "  </thead>\n",
       "  <tbody>\n",
       "    <tr>\n",
       "      <th>3</th>\n",
       "      <td>0</td>\n",
       "      <td>Unlimited double xp tokens</td>\n",
       "      <td>I’m pretty sure it’s a glitch and I’m not comp...</td>\n",
       "      <td>Wokindajuice</td>\n",
       "      <td>1671066265</td>\n",
       "      <td>2022-12-15 01:04:25</td>\n",
       "    </tr>\n",
       "    <tr>\n",
       "      <th>4</th>\n",
       "      <td>0</td>\n",
       "      <td>So i just unlocked orion camo, but i kinda reg...</td>\n",
       "      <td>NaN</td>\n",
       "      <td>Lanky-Arm-1373</td>\n",
       "      <td>1671066238</td>\n",
       "      <td>2022-12-15 01:03:58</td>\n",
       "    </tr>\n",
       "  </tbody>\n",
       "</table>\n",
       "</div>"
      ],
      "text/plain": [
       "   subreddit_ow                                              title  \\\n",
       "3             0                         Unlimited double xp tokens   \n",
       "4             0  So i just unlocked orion camo, but i kinda reg...   \n",
       "\n",
       "                                            selftext          author  \\\n",
       "3  I’m pretty sure it’s a glitch and I’m not comp...    Wokindajuice   \n",
       "4                                                NaN  Lanky-Arm-1373   \n",
       "\n",
       "   created_utc     utc_datetime_str  \n",
       "3   1671066265  2022-12-15 01:04:25  \n",
       "4   1671066238  2022-12-15 01:03:58  "
      ]
     },
     "execution_count": 9,
     "metadata": {},
     "output_type": "execute_result"
    }
   ],
   "source": [
    "ow_cod_df.head(2)"
   ]
  },
  {
   "cell_type": "markdown",
   "id": "1b9fac7d-8b3d-4b54-81b1-caa3f5868af9",
   "metadata": {},
   "source": [
    "#### Primary data cleaning"
   ]
  },
  {
   "cell_type": "code",
   "execution_count": 10,
   "id": "17c529b9-02be-4047-aa98-99ec8b9d03cb",
   "metadata": {},
   "outputs": [
    {
     "data": {
      "text/plain": [
       "51735"
      ]
     },
     "execution_count": 10,
     "metadata": {},
     "output_type": "execute_result"
    }
   ],
   "source": [
    "# we start with 51,735 posts\n",
    "len(ow_cod_df)"
   ]
  },
  {
   "cell_type": "code",
   "execution_count": 11,
   "id": "6aa36ced-b431-47fa-843b-f839c1b9ba4a",
   "metadata": {},
   "outputs": [],
   "source": [
    "# drop duplicates for title and author\n",
    "ow_cod_df.drop_duplicates(subset=['title', 'author'], inplace=True)"
   ]
  },
  {
   "cell_type": "code",
   "execution_count": 12,
   "id": "817ccd49-47b4-4526-be19-e8c44a78eafe",
   "metadata": {},
   "outputs": [],
   "source": [
    "# fill null values for selftext\n",
    "ow_cod_df['selftext'].fillna('', inplace=True)"
   ]
  },
  {
   "cell_type": "code",
   "execution_count": 13,
   "id": "42238b9b-796b-4706-ab8c-88939295f500",
   "metadata": {},
   "outputs": [],
   "source": [
    "# we combine the title and the selftext and will perform NLP on the combined text data\n",
    "ow_cod_df['title_selftext'] = ow_cod_df['title'] + ' ' + ow_cod_df['selftext']"
   ]
  },
  {
   "cell_type": "code",
   "execution_count": 14,
   "id": "9efa0ea2-2688-45fd-a170-ab2160aa1226",
   "metadata": {},
   "outputs": [],
   "source": [
    "# remove '[View Poll]' which occurs as string in posts will polls\n",
    "ow_cod_df['title_selftext'] = ow_cod_df['title_selftext'].apply(lambda x: x.replace('[View Poll]', ' '))"
   ]
  },
  {
   "cell_type": "code",
   "execution_count": 15,
   "id": "ed4d58b9-55c4-4921-8e2e-d54449c94bb8",
   "metadata": {},
   "outputs": [],
   "source": [
    "# make title_selftext lower case (we are not interested in use of capitalization)\n",
    "ow_cod_df['title_selftext'] = ow_cod_df['title_selftext'].str.lower()"
   ]
  },
  {
   "cell_type": "markdown",
   "id": "db07d7ac-3309-4c9f-92cc-304ae4d87bc2",
   "metadata": {},
   "source": [
    "We aim to remove text from the posts which directly reference Overwatch 2 or COD MW2, as classification with self referential text is not interesting. We are interested looking at similarities/ differences in language which exist in shooter subreddits which are more subtle.\n",
    "\n",
    "This includes removing the names of each game, characters, and weapon names"
   ]
  },
  {
   "cell_type": "code",
   "execution_count": 16,
   "id": "67dc91f2-db55-4809-8173-d4993fde1598",
   "metadata": {},
   "outputs": [],
   "source": [
    "# remove overwatch2 character names\n",
    "overwatch_names = ['ana', 'ashe', 'baptiste', 'bastion', 'brigitte', 'cassidy', 'd.va', 'doomfist', 'echo', 'genji', \n",
    "                   'hanzo', 'junker queen', 'junkrat', 'kiriko', 'lucio', 'mei', 'mercy', 'moira', 'orisa', 'pharah', \n",
    "                   'ramattra', 'reaper', 'reinhardt', 'roadhog', 'sigma', 'sojourn', 'soldier 76', 'sombra', 'symmetra', \n",
    "                   'torbjorn', 'tracer', 'widowmaker', 'winston', 'wrecking ball', 'zarya', 'zenyatta']\n",
    "for name in overwatch_names:\n",
    "    ow_cod_df['title_selftext'] = ow_cod_df['title_selftext'].apply(lambda x: x.replace(name, ''))\n",
    "\n",
    "# source: https://overwatch.fandom.com/wiki/Heroes"
   ]
  },
  {
   "cell_type": "code",
   "execution_count": 17,
   "id": "c204a55b-1bbe-48ec-b55f-0749792c49d5",
   "metadata": {},
   "outputs": [],
   "source": [
    "# remove call of duty weapon names\n",
    "cod_weapons = ['Chimera', 'Lachmann-556', 'STB 556', 'M4', 'M16', 'Kastov 762', 'Kastov-74u', 'Kastov 545', 'M13B', 'TAQ-56', 'TAQ-V', \n",
    "               'SO-14', 'FTAC Recon', 'Lachmann-762', 'Lachmann Sub', 'BAS-P', 'MX9', 'Vaznev-9K', 'FSS Hurricane', 'Minibak', 'PDSW 528', \n",
    "               'VEL 46', 'Fennec 45', 'Lockwood 300', 'Bryson 800', 'Bryson 890', 'Expedite 12', 'RAAL MG', 'HCR 56', '556 Icarus', 'RPK', \n",
    "               'RAPP H', 'Sakin MG38', 'LM-S', 'SP-R 208', 'EBR-14', 'SA-B 50', 'Lockwood MK2', 'TAQ-M', 'MCPR-300', 'Victus XMR', 'Signal 50', \n",
    "               'LA-B 330', 'SP-X 80', 'X12', 'X13 Auto', '.50 GS', 'P890', 'Basilisk', 'RPG-7', 'Pila', 'JOKR', 'Strela-P', 'Riot Shields', 'Riot Shield']\n",
    "for weapon in cod_weapons:\n",
    "    ow_cod_df['title_selftext'] = ow_cod_df['title_selftext'].apply(lambda x: x.replace(weapon.lower(), ''))\n",
    "# source: https://www.gamesatlas.com/cod-modern-warfare-2/weapons/"
   ]
  },
  {
   "cell_type": "code",
   "execution_count": 18,
   "id": "30d308f3-1b40-4b9e-ab47-aca233ebe905",
   "metadata": {},
   "outputs": [],
   "source": [
    "# remove direct references to COD and OW2 games\n",
    "cod_ow_game_references = ['modern warfare ii', 'modern warfareii', 'modernwarfareii', 'mwii', 'modernwarfare', 'mw', 'overwatch', \n",
    "                          'warzone', 'cod', 'duty', 'modern', 'warfare', 'ow', 'wz']\n",
    "# for \"ow\" don't want to delete parts of words (ex. \"know\" -> \"kn\") so we add space\n",
    "# TODO: FIGURE THIS OUT (ow)\n",
    "for game_reference in cod_ow_game_references:\n",
    "    ow_cod_df['title_selftext'] = ow_cod_df['title_selftext'].apply(lambda x: x.replace(game_reference, ''))"
   ]
  },
  {
   "cell_type": "markdown",
   "id": "f22badbe-6d9c-448d-ba44-f7abb40219f4",
   "metadata": {},
   "source": [
    "Upon looking at the most frequent words, there are other terms which reference either COD or Overwatch2 directly. Since we are aiming to use underlying language to classify the posts, we will remove these from the title_selftext.\n",
    "\n",
    "Words we are removing and the reason:\n",
    "\n",
    "| Word | Description/ Reason for Excluding |\n",
    "| --- | --- |\n",
    "| dmz | gamemode in COD |\n",
    "| blizzard | company that created Overwatch2 |\n",
    "| dps | damage per second; used in Overwatch2 (in COD they use \"ttk\" or \"time to kill\" instead |\n",
    "| camo | weapon camos, only exist in COD |\n",
    "| attachments | weapon attachments, only exist in COD |\n",
    "| campaign | campaign mode, only exists in COD |\n",
    "| blueprint | weapon blueprints, only exist in COD |\n",
    "| perk | character perks, only exist in COD |\n",
    "| exfil | term used in dmz gamemode in COD |\n",
    "| hog | roadhog, character shorthand in Overwatch2 |\n",
    "| uav | drone in COD |\n",
    "| shipment | map in COD |\n",
    "| hardpoint | gamemode in cod |\n",
    "| zen | shorthand for zenyatta, character in Overwatch2 |\n",
    "| potg | \"play of the game\", Overwatch2 shows best play of the game after each game |\n",
    "| cdl | shorthand for \"Call of Duty League\" |\n",
    "| polyatomic | name of a camo in cod |\n",
    "| extraction | term used in dmz gamemode in COD (same as \"exfil\") |\n",
    "| hero/heroes | the characters in Overwatch 2 are referred to as \"heroes\" |\n",
    "| ult | Overwatch 2 features \"ultimate abilities,\" (aka \"ults\") which are not in COD |\n",
    "| source: Shoki Leffel |"
   ]
  },
  {
   "cell_type": "code",
   "execution_count": 19,
   "id": "4f7dacaa-faca-4c03-9d2a-72e8cb4b1c63",
   "metadata": {},
   "outputs": [],
   "source": [
    "# removing other terms which are directly related to either just COD or just ow2\n",
    "other_game_terms = ['dmzs', 'dmz', 'blizzard', 'dps', 'camos', 'camo', 'attachments', 'attachment', 'campaigns', 'campaign', 'blueprints', \n",
    "                    'blueprint', 'perks', 'perk', 'exfils', 'exfil', 'hog', 'operators', 'operator', 'uavs', 'uav', 'shipments', 'shipment', \n",
    "                    'hardpoint', 'zen', 'potg', 'cdl', 'polyatomic', 'extractions', 'extraction', 'heroes', 'hero', 'ults', 'ult']\n",
    "\n",
    "for term in other_game_terms:\n",
    "    ow_cod_df['title_selftext'] = ow_cod_df['title_selftext'].apply(lambda x: x.replace(term, ''))"
   ]
  },
  {
   "cell_type": "code",
   "execution_count": 20,
   "id": "144bd7a8-2471-4b75-8136-e88a55760b4a",
   "metadata": {},
   "outputs": [],
   "source": [
    "# other data cleaning\n",
    "# removing &amp; and #x200B; which occur and have no meaning\n",
    "ow_cod_df['title_selftext'] = ow_cod_df['title_selftext'].apply(lambda x: x.replace('&amp;', ''))\n",
    "ow_cod_df['title_selftext'] = ow_cod_df['title_selftext'].apply(lambda x: x.replace('#x200B;', ''))\n",
    "\n",
    "# removing urls\n",
    "ow_cod_df['title_selftext'] = ow_cod_df['title_selftext'].apply(lambda x: re.sub(r'http\\S+', '', x))\n",
    "# removing non regular characters\n",
    "ow_cod_df['title_selftext'] = ow_cod_df['title_selftext'].apply(lambda x: re.sub('[^a-zA-Z0-9 \\n]', '', x))\n",
    "# replacing the line breaks with spaces\n",
    "ow_cod_df['title_selftext'] = ow_cod_df['title_selftext'].apply(lambda x: re.sub('[\\n]', ' ', x))\n",
    "\n",
    "# sources:\n",
    "# https://gist.github.com/MrEliptik/b3f16179aa2f530781ef8ca9a16499af\n",
    "# https://stackoverflow.com/questions/23996118/replace-special-characters-in-a-string-in-python"
   ]
  },
  {
   "cell_type": "code",
   "execution_count": 21,
   "id": "77ad8ed0-3b76-4dc1-aa1a-0eeb204d7f94",
   "metadata": {},
   "outputs": [],
   "source": [
    "# removing emojis\n",
    "emoji_pattern = re.compile(\"[\"\n",
    "        u\"\\U0001F600-\\U0001F64F\"  # emoticons\n",
    "        u\"\\U0001F300-\\U0001F5FF\"  # symbols & pictographs\n",
    "        u\"\\U0001F680-\\U0001F6FF\"  # transport & map symbols\n",
    "        u\"\\U0001F1E0-\\U0001F1FF\"  # flags (iOS)\n",
    "                           \"]+\", flags=re.UNICODE)\n",
    "\n",
    "ow_cod_df['title_selftext'] = ow_cod_df['title_selftext'].apply(lambda x: emoji_pattern.sub(r'', x))\n",
    "# source: https://stackoverflow.com/questions/33404752/removing-emojis-from-a-string-in-python"
   ]
  },
  {
   "cell_type": "code",
   "execution_count": 22,
   "id": "2dce4f5c-484d-4ea1-b2aa-111842cfa4e8",
   "metadata": {},
   "outputs": [],
   "source": [
    "# removing all numbers and numerics\n",
    "ow_cod_df['title_selftext'].replace('\\d+', '', regex=True, inplace=True)"
   ]
  },
  {
   "cell_type": "code",
   "execution_count": 23,
   "id": "889dd165-46e3-4db8-824c-9e7ffa71b600",
   "metadata": {},
   "outputs": [],
   "source": [
    "# removing posts with only whitespaces left\n",
    "ow_cod_df['len_no_whitespace'] = ow_cod_df['title_selftext'].str.strip().apply(len)\n",
    "ow_cod_df = ow_cod_df.loc[ow_cod_df['len_no_whitespace']!=0].copy()"
   ]
  },
  {
   "cell_type": "code",
   "execution_count": 24,
   "id": "e853676d-6a23-41aa-925c-add64334ad90",
   "metadata": {},
   "outputs": [
    {
     "data": {
      "text/plain": [
       "50491"
      ]
     },
     "execution_count": 24,
     "metadata": {},
     "output_type": "execute_result"
    }
   ],
   "source": [
    "len(ow_cod_df)"
   ]
  },
  {
   "cell_type": "code",
   "execution_count": 25,
   "id": "fe8158f8-9962-49bb-9290-75b0d8688c0e",
   "metadata": {},
   "outputs": [
    {
     "data": {
      "text/html": [
       "<div>\n",
       "<style scoped>\n",
       "    .dataframe tbody tr th:only-of-type {\n",
       "        vertical-align: middle;\n",
       "    }\n",
       "\n",
       "    .dataframe tbody tr th {\n",
       "        vertical-align: top;\n",
       "    }\n",
       "\n",
       "    .dataframe thead th {\n",
       "        text-align: right;\n",
       "    }\n",
       "</style>\n",
       "<table border=\"1\" class=\"dataframe\">\n",
       "  <thead>\n",
       "    <tr style=\"text-align: right;\">\n",
       "      <th></th>\n",
       "      <th>subreddit_ow</th>\n",
       "    </tr>\n",
       "  </thead>\n",
       "  <tbody>\n",
       "    <tr>\n",
       "      <th>0</th>\n",
       "      <td>0.66</td>\n",
       "    </tr>\n",
       "    <tr>\n",
       "      <th>1</th>\n",
       "      <td>0.34</td>\n",
       "    </tr>\n",
       "  </tbody>\n",
       "</table>\n",
       "</div>"
      ],
      "text/plain": [
       "   subreddit_ow\n",
       "0          0.66\n",
       "1          0.34"
      ]
     },
     "execution_count": 25,
     "metadata": {},
     "output_type": "execute_result"
    }
   ],
   "source": [
    "ow_cod_df['subreddit_ow'].value_counts(normalize=True).round(2).to_frame()"
   ]
  },
  {
   "cell_type": "markdown",
   "id": "8e35e83f-d82c-472c-b574-a95fffdd7c0f",
   "metadata": {},
   "source": [
    "We are now left with 50,491 posts total, with 66 % COD MW2 posts ad 34 % Overwatch 2 posts"
   ]
  },
  {
   "cell_type": "code",
   "execution_count": 26,
   "id": "5a31e8a8-1fa0-4504-b59b-21cd4458d371",
   "metadata": {},
   "outputs": [],
   "source": [
    "# save cleaned data to csv\n",
    "ow_cod_df.to_csv('data/ow_cod_df_clean.csv', index=False)"
   ]
  }
 ],
 "metadata": {
  "kernelspec": {
   "display_name": "Python 3 (ipykernel)",
   "language": "python",
   "name": "python3"
  },
  "language_info": {
   "codemirror_mode": {
    "name": "ipython",
    "version": 3
   },
   "file_extension": ".py",
   "mimetype": "text/x-python",
   "name": "python",
   "nbconvert_exporter": "python",
   "pygments_lexer": "ipython3",
   "version": "3.9.13"
  }
 },
 "nbformat": 4,
 "nbformat_minor": 5
}
